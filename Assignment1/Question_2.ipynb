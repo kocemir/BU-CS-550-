{
 "cells": [
  {
   "cell_type": "markdown",
   "metadata": {},
   "source": [
    " # Question 2"
   ]
  },
  {
   "cell_type": "code",
   "execution_count": 59,
   "metadata": {},
   "outputs": [],
   "source": [
    "import pandas as pd\n",
    "import numpy as np\n",
    "from sklearn import tree\n",
    "from sklearn.tree import DecisionTreeClassifier\n",
    "import matplotlib.pyplot as plt\n",
    "from sklearn.metrics import accuracy_score,ConfusionMatrixDisplay\n",
    "from sklearn.metrics import confusion_matrix\n",
    "from sklearn.metrics import plot_confusion_matrix\n",
    "from sklearn.preprocessing import StandardScaler\n",
    "from random import sample\n",
    "import os\n"
   ]
  },
  {
   "cell_type": "code",
   "execution_count": 60,
   "metadata": {},
   "outputs": [],
   "source": [
    "cur_dir = os.getcwd()\n",
    "train_file_path = os.path.join(cur_dir, 'ann-train.data')\n",
    "test_file_path = os.path.join(cur_dir, 'ann-test.data')\n",
    "feature_file_path = os.path.join(cur_dir, 'ann-thyroid.cost')"
   ]
  },
  {
   "cell_type": "code",
   "execution_count": 61,
   "metadata": {},
   "outputs": [],
   "source": [
    "# Organize features\n",
    "\n",
    "features = pd.read_csv(feature_file_path, sep =\":\", header =None)\n",
    "features = features[features.columns[:1]]\n",
    "features = features.append(pd.Series(\"mixed\"),ignore_index= True)\n",
    "features_list = np.squeeze(features.to_numpy())\n",
    "features = features.to_dict()[0]\n"
   ]
  },
  {
   "cell_type": "code",
   "execution_count": 62,
   "metadata": {},
   "outputs": [],
   "source": [
    "# Prepare tranining data \n",
    "data_train = pd.read_csv(train_file_path, sep =\" \", header =None)\n",
    "train_data= data_train[data_train.columns[0:21]]\n",
    "train_data = train_data.rename(columns=features,inplace =False) # This is pandas version\n",
    "\n",
    "np_train_data= train_data.to_numpy() # This is numpy version\n",
    "label_train = data_train[data_train.columns[21]].astype(\"category\")\n",
    "np_label_train = label_train.to_numpy()\n",
    "# Prepare test data\n",
    "\n",
    "data_test = pd.read_csv(test_file_path, sep =\" \", header =None)\n",
    "test_data= data_test[data_test.columns[0:21]]\n",
    "test_data = test_data.rename(columns=features,inplace =False)\n",
    "\n",
    "np_test_data = test_data.to_numpy()\n",
    "label_test=data_test[data_train.columns[21]].astype(\"category\")\n",
    "np_label_test = label_test.to_numpy()\n"
   ]
  },
  {
   "cell_type": "code",
   "execution_count": 63,
   "metadata": {},
   "outputs": [],
   "source": [
    "#Define some functions\n",
    "def impurityCalculation(impurity_choice, labelsOfnode):\n",
    "    \n",
    "    labels, numLabels = np.unique(labelsOfnode, return_counts = True)\n",
    "    total_labels= np.sum(numLabels)  \n",
    "    p_numLabels = numLabels/total_labels\n",
    "    \n",
    "    if impurity_choice == \"entropy\":\n",
    "        entropy = 0\n",
    "        total_entropy = np.sum([entropy+ (-np.log2(ii)*ii)  for ii in p_numLabels])\n",
    "        total_impurity = total_entropy\n",
    "        \n",
    "        \n",
    "    elif impurity_choice == \"gini\":\n",
    "        entropy = 0      \n",
    "        gini= (1/2)*(1-np.sum(np.square(p_numLabels)))\n",
    "        total_impurity = gini\n",
    "        \n",
    "    else:\n",
    "        raise Exception(\"Sorry\", impurity_choice, \"is not an impurity type. \")\n",
    "    \n",
    "    return total_impurity\n",
    "        \n",
    "def LeftRightSplit(attribute, label, value,impurity_choice):\n",
    "    \n",
    "    \n",
    "    total_entropy = impurityCalculation(impurity_choice,label)\n",
    "    \n",
    "    R_split = label[attribute>value]\n",
    "    L_split = label[attribute<=value]\n",
    "    L_prop= len(L_split)/len(label)\n",
    "    R_prop= 1- L_prop\n",
    "    \n",
    "    L_impurity = impurityCalculation(impurity_choice,L_split)\n",
    "    R_impurity = impurityCalculation(impurity_choice,R_split)   \n",
    "    \n",
    "    split_impurity = L_prop*L_impurity + R_prop*R_impurity\n",
    "    informationGain= total_entropy-split_impurity\n",
    "  \n",
    "    return split_impurity, informationGain\n",
    "\n",
    "\n",
    "def exhaustive_search(attributes,label,impurity_choice):\n",
    "    \n",
    "    splitCheckAll= np.Inf\n",
    "    gainAll=0\n",
    "    valueSplitAll=0\n",
    "    \n",
    "    featureIndexSplit=0\n",
    "    \n",
    "    for ft in range(0,attributes.shape[1]):\n",
    "       \n",
    "        splitCheck= np.Inf\n",
    "        \n",
    "        for val in attributes[:,ft]:\n",
    "            isSplit,gainCheck = LeftRightSplit(attributes[:,ft],label,val,impurity_choice)\n",
    "            \n",
    "            if isSplit < splitCheck:\n",
    "                splitCheck=isSplit\n",
    "                tempSplitCheck=splitCheck\n",
    "                splitValue= val\n",
    "                gainSplit= gainCheck\n",
    "                \n",
    "        \n",
    "        if tempSplitCheck < splitCheckAll:\n",
    "            splitCheckAll=tempSplitCheck\n",
    "            featureIndexSplit=ft\n",
    "            valueSplitAll= splitValue\n",
    "            gainAll=gainSplit\n",
    "     \n",
    "    \n",
    "    return splitCheckAll,gainAll,valueSplitAll,featureIndexSplit\n",
    "\n",
    "\n",
    "def splitNode(attributes,label,impurity_choice):\n",
    "    \n",
    "    bestSplitImpurity, bestSplitInfoGain,bestValue,bestFeatureIndex = exhaustive_search(attributes,label,impurity_choice)\n",
    "    \n",
    "    node_impurity = impurityCalculation(impurity_choice,label)\n",
    "    \n",
    "    left_node = attributes[attributes[:,bestFeatureIndex]<=bestValue]\n",
    "    left_node_labels = label[attributes[:,bestFeatureIndex]<=bestValue]\n",
    "    \n",
    "    \n",
    "    right_node = attributes[attributes[:,bestFeatureIndex]>bestValue]\n",
    "    right_node_labels = label[attributes[:,bestFeatureIndex]>bestValue]\n",
    "    \n",
    "    \n",
    "    return left_node,left_node_labels, right_node,right_node_labels, node_impurity,bestSplitImpurity, bestSplitInfoGain,bestValue,bestFeatureIndex\n",
    "    \n"
   ]
  },
  {
   "cell_type": "code",
   "execution_count": 64,
   "metadata": {},
   "outputs": [],
   "source": [
    "# Here I made a tree implementation"
   ]
  },
  {
   "cell_type": "code",
   "execution_count": 65,
   "metadata": {},
   "outputs": [],
   "source": [
    "class Node():\n",
    "    def __init__(self,parent,depth):\n",
    "        \n",
    "        self.parent = parent\n",
    "        self.depth=depth\n",
    "        self.childen = []\n",
    "        \n",
    "        self.sampleNumber = None\n",
    "        self.labelNumbers = []\n",
    "        self.labelNames= []\n",
    "        self.bestSplitValue= None\n",
    "        self.bestSplitIndex= None\n",
    "        self.splitImpurity = None\n",
    "        self.isLeaf = 0\n",
    "        self.leafLabelName= None\n",
    "        \n",
    "        \n",
    "def Tree(attributes,label,node,prun,impurity_choice):\n",
    "    \n",
    "    node_labels, labelNumbers = np.unique(label,return_counts= True)\n",
    "    node.labelNames= node_labels\n",
    "    node.labelNumbers=labelNumbers\n",
    "    node.sampleNumber= np.sum(labelNumbers)\n",
    "    \n",
    "    if len(node_labels)==1: # it is pure\n",
    "        node.isLeaf=1\n",
    "        node.leafLabelName=node_labels[0]\n",
    "        return\n",
    "    \n",
    "    \n",
    "    else :\n",
    "        left_node_Feat,left_node_labels, right_node_Feat,right_node_labels, node_impurity,bestSplitImpurity,\\\n",
    "        bestSplitInfoGain,bestValue,bestFeatureIndex = splitNode(attributes,label,impurity_choice)\n",
    "        #Preprunning\n",
    "        if bestSplitInfoGain <= prun:\n",
    "            \n",
    "            labelname,labelNum= np.unique(label, return_counts=True)\n",
    "            node.leafLabelName= labelname[np.argmax(labelNum)] \n",
    "            node.isLeaf = 1\n",
    "            return\n",
    "        # You can also add another pruning methods\n",
    "        \n",
    "        node.bestSplitValue=bestValue\n",
    "        \n",
    "        node.bestSplitIndex= bestFeatureIndex\n",
    "        node.splitImpurity=bestSplitImpurity\n",
    "        \n",
    "        \n",
    "        node.L_child= Node(node,node.depth+1)\n",
    "        node.R_child= Node(node,node.depth+1)\n",
    "        Tree(left_node_Feat,left_node_labels,node.L_child, prun,impurity_choice)\n",
    "        Tree(right_node_Feat,right_node_labels,node.R_child,prun,impurity_choice)\n",
    "        \n",
    "    \n",
    "\n",
    "\n",
    "def TraverseTree(node,data):\n",
    "    \n",
    "    if node.isLeaf==1:\n",
    "        prediction = node.leafLabelName\n",
    "    \n",
    "    else:\n",
    "        if data[node.bestSplitIndex] <= node.bestSplitValue:\n",
    "            prediction = TraverseTree(node.L_child,data)\n",
    "        else:\n",
    "            prediction = TraverseTree(node.R_child,data)\n",
    "    return prediction\n",
    "\n",
    "\n",
    "        \n",
    "    "
   ]
  },
  {
   "cell_type": "code",
   "execution_count": 66,
   "metadata": {},
   "outputs": [],
   "source": [
    "class DecisionTreeClassifier():\n",
    "    \n",
    "    def __init__(self,criterion,isPrunned=\"yes\"):\n",
    "        self.beginTree= None\n",
    "        self.impurity_choice=criterion\n",
    "        self.isPrunned=isPrunned\n",
    "        \n",
    "        \n",
    "    def fit(self,data,label,prun):\n",
    "        \n",
    "        rootNode = Node(None,0)\n",
    "        if self.isPrunned == \"yes\":\n",
    "            Tree(data,label,rootNode,prun,self.impurity_choice)\n",
    "        \n",
    "        else:\n",
    "            Tree(data,label,rootNode,0,self.impurity_choice)\n",
    "        \n",
    "        self.beginTree=rootNode\n",
    "      \n",
    "    def predict(self,data):\n",
    "        \n",
    "        if self.beginTree==None:\n",
    "            print(\" You need to create a tree !\")\n",
    "        \n",
    "        else:\n",
    "            prediction_list =[]\n",
    "            for ii in range(0,data.shape[0]):\n",
    "                prediction_list.append(TraverseTree(self.beginTree,data[ii,:]))\n",
    "            \n",
    "            prediction = np.asarray(prediction_list)\n",
    "            return prediction\n",
    "        "
   ]
  },
  {
   "cell_type": "code",
   "execution_count": 67,
   "metadata": {},
   "outputs": [],
   "source": [
    "def classificationAccuracy(model, data,label, mode = \"Training\"):\n",
    "    \n",
    "    preds= model.predict(data)\n",
    "    pred_accuracy = np.sum(preds==label)/data.shape[0]\n",
    "    print( mode, \"  accuracy is : \", 100*pred_accuracy)\n",
    "    \n",
    "    \n",
    "    \n",
    "    \n",
    "    #class based accuracy\n",
    "    class_labels = np.unique(label,return_counts=False)\n",
    "    class_accuracy = []\n",
    "    \n",
    "    for cl in class_labels: \n",
    "        class_pred= model.predict(data[label==cl])\n",
    "        class_acc= np.sum(class_pred==label[label==cl])/len(label[label==cl])\n",
    "        print(mode, \" accuracy for class \", cl, \"is : \", class_acc*100 )\n",
    "        class_accuracy.append(class_acc)                   \n",
    "                                            \n",
    "            \n",
    "            \n",
    "    # Confusion Matrix Creation\n",
    "    \n",
    "    cm= confusion_matrix(preds, label) \n",
    "    cp=ConfusionMatrixDisplay(cm,display_labels=class_labels)\n",
    "    cp.plot()\n",
    "    plt.title(mode + \" Confusion Matrix\")\n",
    "    plt.show()\n",
    "    \n",
    "\n",
    "    \n",
    "# Here I will implement graph plotting"
   ]
  },
  {
   "cell_type": "markdown",
   "metadata": {},
   "source": [
    "# Confusion Matrix for Test and Train"
   ]
  },
  {
   "cell_type": "code",
   "execution_count": 68,
   "metadata": {},
   "outputs": [
    {
     "name": "stdout",
     "output_type": "stream",
     "text": [
      "Traning   accuracy is :  99.97348886532343\n",
      "Traning  accuracy for class  1 is :  100.0\n",
      "Traning  accuracy for class  2 is :  100.0\n",
      "Traning  accuracy for class  3 is :  99.97133027522935\n"
     ]
    },
    {
     "data": {
      "image/png": "[encoded data removed]",
      "text/plain": [
       "<Figure size 432x288 with 2 Axes>"
      ]
     },
     "metadata": {
      "needs_background": "light"
     },
     "output_type": "display_data"
    },
    {
     "name": "stdout",
     "output_type": "stream",
     "text": [
      "Test   accuracy is :  99.32905484247374\n",
      "Test  accuracy for class  1 is :  95.8904109589041\n",
      "Test  accuracy for class  2 is :  99.43502824858757\n",
      "Test  accuracy for class  3 is :  99.40213971050976\n"
     ]
    },
    {
     "data": {
      "image/png": "[encoded data removed]",
      "text/plain": [
       "<Figure size 432x288 with 2 Axes>"
      ]
     },
     "metadata": {
      "needs_background": "light"
     },
     "output_type": "display_data"
    }
   ],
   "source": [
    "decision_tree= DecisionTreeClassifier(\"entropy\",\"yes\")\n",
    "decision_tree.fit(np_train_data,np_label_train,0.035)\n",
    "classificationAccuracy(decision_tree,np_train_data,np_label_train,mode=\"Traning\")\n",
    "classificationAccuracy(decision_tree,np_test_data,np_label_test,mode=\"Test\")"
   ]
  },
  {
   "cell_type": "markdown",
   "metadata": {},
   "source": [
    "# DONE"
   ]
  },
  {
   "cell_type": "code",
   "execution_count": null,
   "metadata": {},
   "outputs": [],
   "source": []
  }
 ],
 "metadata": {
  "kernelspec": {
   "display_name": "Python 3",
   "language": "python",
   "name": "python3"
  },
  "language_info": {
   "codemirror_mode": {
    "name": "ipython",
    "version": 3
   },
   "file_extension": ".py",
   "mimetype": "text/x-python",
   "name": "python",
   "nbconvert_exporter": "python",
   "pygments_lexer": "ipython3",
   "version": "3.8.5"
  }
 },
 "nbformat": 4,
 "nbformat_minor": 4
}
